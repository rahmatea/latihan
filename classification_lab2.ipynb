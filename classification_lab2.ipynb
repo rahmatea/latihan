{
  "nbformat": 4,
  "nbformat_minor": 0,
  "metadata": {
    "colab": {
      "provenance": [],
      "authorship_tag": "ABX9TyNo3xUo5xh307cXiPANemJu",
      "include_colab_link": true
    },
    "kernelspec": {
      "name": "python3",
      "display_name": "Python 3"
    },
    "language_info": {
      "name": "python"
    }
  },
  "cells": [
    {
      "cell_type": "markdown",
      "metadata": {
        "id": "view-in-github",
        "colab_type": "text"
      },
      "source": [
        "<a href=\"https://colab.research.google.com/github/rahmatea/latihan/blob/main/classification_lab2.ipynb\" target=\"_parent\"><img src=\"https://colab.research.google.com/assets/colab-badge.svg\" alt=\"Open In Colab\"/></a>"
      ]
    },
    {
      "cell_type": "code",
      "execution_count": 31,
      "metadata": {
        "id": "2JoXPWkpYoyG"
      },
      "outputs": [],
      "source": [
        "!pip install -q langchain_community\n",
        "!pip install -q replicate"
      ]
    },
    {
      "cell_type": "markdown",
      "source": [
        "import libraries"
      ],
      "metadata": {
        "id": "PLEV1nyAhvWM"
      }
    },
    {
      "cell_type": "code",
      "source": [
        "from langchain_community.llms import Replicate\n",
        "import os\n",
        "from google.colab import userdata\n",
        "# Set the API token\n",
        "api_token = userdata.get('REPLICATE_API_TOKEN')\n",
        "os.environ[\"REPLICATE_API_TOKEN\"] = api_token\n",
        "# Model setup\n",
        "model = \"ibm-granite/granite-3.3-8b-instruct\"\n",
        "output = Replicate(\n",
        "    model=model,\n",
        "    replicate_api_token=api_token\n",
        "    )"
      ],
      "metadata": {
        "id": "fD9Rv9l-ZlCV"
      },
      "execution_count": 32,
      "outputs": []
    },
    {
      "cell_type": "code",
      "source": [
        "# Define the customer reviews\n",
        "customer_reviews = [\"The battery lasts all day, but the phone gets hot during gaming.\",\n",
        "                    \"The screen is too dim outdoors, but I love the colors indoors.\",\n",
        "                    \"This phone is fast, but it keeps crashing when I open certain apps.\"\n",
        "                    ]\n",
        "# Refine the prompt to include reviews\n",
        "reviews_text = \"\\n\".join([f\"Review {i+1}: {review}\" for i, review in enumerate(customer_reviews)])\n"
      ],
      "metadata": {
        "id": "JwaVmUUTZp0R"
      },
      "execution_count": 33,
      "outputs": []
    },
    {
      "cell_type": "code",
      "source": [
        "#set model parameters for prompting with default values\n",
        "parameters = {\n",
        "    \"top_k\": 0,\n",
        "    \"top_p\": 1.0,\n",
        "    \"max_tokens\": 256,\n",
        "    \"min_tokens\": 0,\n",
        "    \"random_seed\": None,\n",
        "    \"repetition_penalty\": 1.0,\n",
        "    \"stopping_criteria\": \"length (256 tokens)\",\n",
        "    \"stopping_sequence\": None\n",
        "}"
      ],
      "metadata": {
        "id": "t0PuwbIFaNEb"
      },
      "execution_count": 34,
      "outputs": []
    },
    {
      "cell_type": "code",
      "source": [
        "# Add initial prompt\n",
        "refined_prompt = f\"\"\":\n",
        "Classify these reviews as positive, negative, or mixed, and tag\n",
        "relevant focus areas such as battery life, screen quality, or\n",
        "performance\n",
        "{reviews_text}\n",
        "\"\"\"\n",
        "# Invoke the model\n",
        "response = output.invoke(refined_prompt, parameters=parameters)\n",
        "# Print the response\n",
        "print(\"Granite Model Refined Response:\\n\")\n",
        "print(response)\n"
      ],
      "metadata": {
        "colab": {
          "base_uri": "https://localhost:8080/"
        },
        "id": "Fvxu9C7jbGlu",
        "outputId": "1b385ee0-858b-4984-9ac5-b2db67794af9"
      },
      "execution_count": 35,
      "outputs": [
        {
          "output_type": "stream",
          "name": "stdout",
          "text": [
            "Granite Model Refined Response:\n",
            "\n",
            "1. Review 1: Mixed. Relevant focus areas - Battery life (positive), Performance/Temperature (negative)\n",
            "2. Review 2: Mixed. Relevant focus areas - Screen quality (negative, dim outdoors), Screen quality (positive, good colors indoors)\n",
            "3. Review 3: Negative. Relevant focus areas - Performance (negative, crashing issue)\n",
            "\n",
            "Explanation:\n",
            "\n",
            "Review 1: The reviewer expresses a positive sentiment about the battery life (\"lasts all day\"), indicating satisfaction. However, they also mention a negative aspect related to performance during gaming (\"gets hot\"), thus classifying this review as mixed. The relevant focus areas tagged are battery life (positive) and performance/temperature (negative).\n",
            "\n",
            "Review 2: This review is mixed as it contains both positive and negative comments about the screen quality. The reviewer dislikes the dimness of the screen outdoors, indicating a negative focus area. Conversely, they appreciate the screen's color quality indoors, showing a positive sentiment towards another aspect of screen quality.\n",
            "\n",
            "Review 3: This review is clearly negative. The user expresses dissatisfaction with a recurring crashing issue when opening certain apps, indicating a significant performance problem. No positive aspects are mentioned, so it's classified as negative with the focus area being performance.\n"
          ]
        }
      ]
    },
    {
      "cell_type": "code",
      "source": [
        "# Refine top_k model parameter value\n",
        "parameters = {\n",
        "\"top_k\": 5,\n",
        "\"top_p\": 1.0,\n",
        "\"max_tokens\": 256,\n",
        "\"min_tokens\": 0,\n",
        "\"random_seed\": None,\n",
        "\"repetition_penalty\": 1.0,\n",
        "\"stopping_criteria\": \"length (256 tokens)\",\n",
        "\"stopping_sequence\": None\n",
        "}"
      ],
      "metadata": {
        "id": "AjJDpwI6kKz0"
      },
      "execution_count": 36,
      "outputs": []
    },
    {
      "cell_type": "code",
      "source": [
        "# Add initial prompt\n",
        "refined_prompt = f\"\"\":\n",
        "Classify these reviews as positive, negative, or mixed, and tag\n",
        "relevant focus areas such as battery life, screen quality, or\n",
        "performance\n",
        "{reviews_text}\n",
        "\"\"\"\n",
        "# Invoke the model\n",
        "response = output.invoke(refined_prompt, parameters=parameters)\n",
        "# Print the response\n",
        "print(\"Granite Model Refined Response:\\n\")\n",
        "print(response)\n"
      ],
      "metadata": {
        "colab": {
          "base_uri": "https://localhost:8080/"
        },
        "id": "8JhCerSskRaQ",
        "outputId": "470bccb5-58a1-4f8e-e11e-00bfce511fe9"
      },
      "execution_count": 37,
      "outputs": [
        {
          "output_type": "stream",
          "name": "stdout",
          "text": [
            "Granite Model Refined Response:\n",
            "\n",
            "1. Review 1: Mixed. Focus areas: Battery life (positive), Performance/Temperature (negative)\n",
            "2. Review 2: Mixed. Focus areas: Screen quality (negative - dim outdoors), Screen quality (positive - vibrant colors indoors)\n",
            "3. Review 3: Negative. Focus areas: Performance/Stability (negative - crashing issue)\n",
            "\n",
            "Each review is classified based on the overall sentiment, which appears to be mixed or negative, depending on the specific issues mentioned. The relevant focus areas are tagged according to the aspects of the phone being discussed in each review.\n"
          ]
        }
      ]
    },
    {
      "cell_type": "code",
      "source": [
        "# Refine multiple Model Parameter values\n",
        "parameters = {\n",
        " \"top_k\": 1,\n",
        " \"top_p\": 0.5,\n",
        " \"max_tokens\": 10,\n",
        " \"min_tokens\": 3,\n",
        " \"random_seed\": None,\n",
        " \"repetition_penalty\": 1.5,\n",
        " \"stopping_criteria\": \"length\",\n",
        " \"stopping_sequence\": None\n",
        "}"
      ],
      "metadata": {
        "id": "Wy9OtbAnkhVl"
      },
      "execution_count": 38,
      "outputs": []
    },
    {
      "cell_type": "code",
      "source": [
        "# Add initial prompt\n",
        "refined_prompt = f\"\"\":\n",
        "Classify these reviews as positive, negative, or mixed, and tag\n",
        "relevant focus areas such as battery life, screen quality, or\n",
        "performance\n",
        "{reviews_text}\n",
        "\"\"\"\n",
        "# Invoke the model\n",
        "response = output.invoke(refined_prompt, parameters=parameters)\n",
        "# Print the response\n",
        "print(\"Granite Model Refined Response:\\n\")\n",
        "print(response)\n"
      ],
      "metadata": {
        "colab": {
          "base_uri": "https://localhost:8080/"
        },
        "id": "8sVr2Pgpks4u",
        "outputId": "3757ebdf-c42d-4bfd-e5ed-c4c7f34c0baf"
      },
      "execution_count": 39,
      "outputs": [
        {
          "output_type": "stream",
          "name": "stdout",
          "text": [
            "Granite Model Refined Response:\n",
            "\n",
            "1. Review 1: Mixed - Focus areas: Battery life, Performance (temperature)\n",
            "   - Positive: Battery lasts all day.\n",
            "   - Negative: Phone gets hot during gaming.\n",
            "\n",
            "2. Review 2: Mixed - Focus areas: Screen quality (brightness, color accuracy)\n",
            "   - Positive: Love the colors indoors.\n",
            "   - Negative: Screen is too dim outdoors.\n",
            "\n",
            "3. Review 3: Mixed - Focus areas: Performance (speed), Stability (crashing)\n",
            "   - Positive: This phone is fast.\n",
            "   - Negative: Keeps crashing when opening certain apps.\n"
          ]
        }
      ]
    },
    {
      "cell_type": "code",
      "source": [
        "#Refine multiple Model Parameter values\n",
        "parameters = {\n",
        " \"top_k\": 1,\n",
        " \"top_p\": 0.5,\n",
        " \"max_tokens\": 3,\n",
        " \"min_tokens\": 1,\n",
        " \"random_seed\": None,\n",
        " \"repetition_penalty\": 1.5,\n",
        " \"stopping_criteria\": \"length\",\n",
        " \"stopping_sequence\": \" \"\n",
        "}"
      ],
      "metadata": {
        "id": "Eo9e73MCk4dK"
      },
      "execution_count": 40,
      "outputs": []
    },
    {
      "cell_type": "code",
      "source": [
        "# Add initial prompt\n",
        "refined_prompt = f\"\"\":\n",
        "Classify these reviews as positive, negative, or mixed, and tag\n",
        "relevant focus areas such as battery life, screen quality, or\n",
        "performance\n",
        "{reviews_text}\n",
        "\"\"\"\n",
        "# Invoke the model\n",
        "response = output.invoke(refined_prompt, parameters=parameters)\n",
        "# Print the response\n",
        "print(\"Granite Model Refined Response:\\n\")\n",
        "print(response)\n"
      ],
      "metadata": {
        "colab": {
          "base_uri": "https://localhost:8080/"
        },
        "id": "dT2bdWydlSWr",
        "outputId": "7b659fdf-d8b1-4738-dae4-50aa6a4fdf21"
      },
      "execution_count": 41,
      "outputs": [
        {
          "output_type": "stream",
          "name": "stdout",
          "text": [
            "Granite Model Refined Response:\n",
            "\n",
            "1. Review 1: Mixed. Focus areas: battery life (positive), performance under gaming (negative)\n",
            "2. Review 2: Mixed. Focus areas: screen quality outdoors (negative), screen quality indoors (positive)\n",
            "3. Review 3: Negative. Focus areas: overall performance (negative), app stability issues\n",
            "\n",
            "Explanation:\n",
            "- Review 1 expresses mixed sentiment. The user appreciates the all-day battery life (positive aspect), but also mentions an issue with the phone overheating during gaming (negative aspect).\n",
            "- Review 2 indicates a mixed sentiment. The user dislikes the dimness of the screen outdoors (negative aspect), but enjoys the color quality indoors (positive aspect).\n",
            "- Review 3 is clearly negative. The user points out that the phone, despite being fast, suffers from frequent crashes when opening certain apps (negative aspect), indicating a performance issue.\n"
          ]
        }
      ]
    },
    {
      "cell_type": "code",
      "source": [
        "# Define the customer reviews\n",
        "customer_meetings = [\n",
        "\"\"\"The meeting began with a discussion of the Q3 marketing\n",
        "budget. It was decided that 40% of the budget will go to\n",
        "digital ads, 30% to events, and 30% to social media campaigns.\n",
        "The team emphasized the need for influencer partnerships to\n",
        "increase brand visibility and email marketing to boost direct\n",
        "engagement. A pilot program to test new ad formats will launch\n",
        "next month, with the team reviewing results by the end of Q3.\n",
        "Later, the team discussed campaign performance metrics. ROI\n",
        "monitoring will be a top priority, and adjustments will be made\n",
        "based on performance data. The events team raised concerns\n",
        "about resource allocation for upcoming trade shows, and it was\n",
        "agreed that an additional $10,000 would be reallocated to cover\n",
        "these costs.\n",
        "Lastly, the team reviewed new creative concepts for the\n",
        "upcoming campaign, deciding to proceed with Concept B, which\n",
        "tested better among focus groups. Deadlines for campaign assets\n",
        "were finalized: all deliverables must be submitted by July\n",
        "15.\"\"\"\n",
        "]"
      ],
      "metadata": {
        "id": "KysUxjQalXQY"
      },
      "execution_count": 42,
      "outputs": []
    },
    {
      "cell_type": "code",
      "source": [
        "# Refine the prompt to include reviews\n",
        "reviews_text = \"\\n\".join([f\"Review {i+1}: {review}\" for i, review in enumerate(customer_meetings)])"
      ],
      "metadata": {
        "id": "NAPEImuEl8AQ"
      },
      "execution_count": 43,
      "outputs": []
    },
    {
      "cell_type": "code",
      "source": [
        "# Apply default parameters\n",
        "parameters = {\n",
        "\"top_k\": 0,\n",
        "\"top_p\": 1.0,\n",
        "\"max_tokens\": 256,\n",
        "\"min_tokens\": 0,\n",
        "\"random_seed\": None,\n",
        "\"repetition_penalty\": 1.0,\n",
        "\"stopping_criteria\": \"length (256 tokens)\",\n",
        "\"stopping_sequence\": None\n",
        "}\n",
        "# Refined prompt with example included\n",
        "refined_focus_prompt = f\"\"\"\n",
        "Summarize this meeting by focusing on key points, decisions, and\n",
        "action items\n",
        "{reviews_text}\n",
        "\"\"\"\n",
        "# Invoke the model with the refined focus prompt\n",
        "response = output.invoke(refined_focus_prompt,\n",
        "parameters=parameters)\n",
        "# Print the response\n",
        "print(\"Granite Model Response for refined focus area response:\\n\")\n",
        "print(response)"
      ],
      "metadata": {
        "colab": {
          "base_uri": "https://localhost:8080/"
        },
        "id": "u3zS73N9mC9m",
        "outputId": "bda30e5c-22f5-49d0-bc23-924b987a4353"
      },
      "execution_count": 44,
      "outputs": [
        {
          "output_type": "stream",
          "name": "stdout",
          "text": [
            "Granite Model Response for refined focus area response:\n",
            "\n",
            "The Q3 marketing budget meeting resulted in the following key points, decisions, and action items:\n",
            "\n",
            "1. Budget Allocation: 40% for digital ads, 30% for events, and 30% for social media campaigns.\n",
            "2. Strategic Focus: Emphasize influencer partnerships and email marketing for increased brand visibility and direct engagement.\n",
            "3. Pilot Program: Launch a pilot program for new ad formats next month, with a review of results by the end of Q3.\n",
            "4. ROI Monitoring: Prioritize monitoring return on investment (ROI) and make adjustments based on performance data.\n",
            "5. Events Resource Reallocation: Allocate an additional $10,000 for resource needs in upcoming trade shows, addressing the events team's concerns.\n",
            "6. Creative Concept Selection: Choose Concept B for the upcoming campaign, as it performed better in focus groups.\n",
            "7. Deadlines: Finalize all campaign assets by July 15.\n"
          ]
        }
      ]
    },
    {
      "cell_type": "code",
      "source": [
        "# Refine max_tokens parameter value\n",
        "parameters = {\n",
        "\"top_k\": 0,\n",
        "\"top_p\": 1.0,\n",
        "\"max_tokens\": 20,\n",
        "\"min_tokens\": 0,\n",
        "\"random_seed\": None,\n",
        "\"repetition_penalty\": 1.0,\n",
        "\"stopping_criteria\": \"length (256 tokens)\",\n",
        "\"stopping_sequence\": None\n",
        "}\n",
        "# Refined prompt with example included\n",
        "refined_focus_prompt = f\"\"\"\n",
        "Summarize this meeting by focusing on key points, decisions, and\n",
        "action items\n",
        "{reviews_text}\n",
        "\"\"\"\n",
        "# Invoke the model with the refined focus prompt\n",
        "response = output.invoke(refined_focus_prompt,\n",
        "parameters=parameters)\n",
        "# Print the response\n",
        "print(\"Granite Model Response for refined focus area response:\\n\")\n",
        "print(response)"
      ],
      "metadata": {
        "colab": {
          "base_uri": "https://localhost:8080/"
        },
        "id": "s_ewXMblmGUB",
        "outputId": "57742795-4710-470f-b4bb-46054db36f24"
      },
      "execution_count": 45,
      "outputs": [
        {
          "output_type": "stream",
          "name": "stdout",
          "text": [
            "Granite Model Response for refined focus area response:\n",
            "\n",
            "The Q3 marketing budget meeting yielded the following key points, decisions, and action items:\n",
            "\n",
            "1. Budget Allocation: 40% for digital ads, 30% for events, and 30% for social media campaigns.\n",
            "2. Strategic Focus: Emphasis on influencer partnerships and email marketing to enhance brand visibility and direct engagement.\n",
            "3. Pilot Program: Launch of a new ad format pilot program next month, with a review of results by the end of Q3.\n",
            "4. ROI Monitoring: Top priority for campaign performance metrics, with adjustments to be made based on data.\n",
            "5. Additional Resource Reallocation: An extra $10,000 will be allocated to the events team to address concerns about resource allocation for upcoming trade shows.\n",
            "6. Creative Concept Selection: Decision to proceed with Concept B for the upcoming campaign, which performed better in focus groups.\n",
            "7. Campaign Deadlines: All campaign assets must be submitted by July 15.\n"
          ]
        }
      ]
    },
    {
      "cell_type": "code",
      "source": [
        "# Refine multiple parameter value\n",
        "parameters = {\n",
        "\"top_k\": 10,\n",
        "\"top_p\": 0.9,\n",
        "\"max_tokens\": 20,\n",
        "\"min_tokens\": 0,\n",
        "\"random_seed\": None,\n",
        "\"repetition_penalty\": 1.5,\n",
        "\"stopping_criteria\": \"length (256 tokens)\",\n",
        "\"stopping_sequence\": \" \"\n",
        "}\n",
        "# Refined prompt with example included\n",
        "refined_focus_prompt = f\"\"\"\n",
        "Summarize this meeting by focusing on key points, decisions, and\n",
        "action items\n",
        "{reviews_text}\n",
        "\"\"\"\n",
        "# Invoke the model with the refined focus prompt\n",
        "response = output.invoke(refined_focus_prompt, parameters=parameters)\n",
        "# Print the response\n",
        "print(\"Granite Model Response for refined focus area response:\\n\")\n",
        "print(response)"
      ],
      "metadata": {
        "colab": {
          "base_uri": "https://localhost:8080/"
        },
        "id": "3gXI5MlqmdAB",
        "outputId": "ce9ffc7f-61b0-41aa-ba32-f2041c962bfd"
      },
      "execution_count": 48,
      "outputs": [
        {
          "output_type": "stream",
          "name": "stdout",
          "text": [
            "Granite Model Response for refined focus area response:\n",
            "\n",
            "The Q3 marketing budget meeting yielded the following key points, decisions, and action items:\n",
            "\n",
            "1. Budget Allocation:\n",
            "   - 40% for digital ads\n",
            "   - 30% for events\n",
            "   - 30% for social media campaigns\n",
            "\n",
            "2. Strategic Focus:\n",
            "   - Prioritize influencer partnerships for increased brand visibility\n",
            "   - Enhance email marketing for direct customer engagement\n",
            "   - Launch a pilot program for new ad formats in the following month, with a review scheduled by Q3-end\n",
            "\n",
            "3. Performance Metrics and ROI:\n",
            "   - Emphasize ROI monitoring\n",
            "   - Make adjustments based on performance data\n",
            "\n",
            "4. Resource Reallocation:\n",
            "   - Additional $10,000 allocated to the events team to address concerns about upcoming trade shows\n",
            "\n",
            "5. Campaign Concept Selection:\n",
            "   - Proceed with Concept B, as it performed best in focus group testing\n",
            "\n",
            "6. Campaign Asset Deadlines:\n",
            "   - All deliverables must be submitted by July 15\n",
            "\n",
            "This meeting resulted in a clear budget distribution, strategic priorities, and specific action items to enhance campaign performance and resource allocation for events. The team also selected a preferred creative concept and set firm deadlines for campaign assets.\n"
          ]
        }
      ]
    }
  ]
}